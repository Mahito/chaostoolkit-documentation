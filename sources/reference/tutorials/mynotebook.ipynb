{
 "metadata": {
  "language_info": {
   "codemirror_mode": {
    "name": "ipython",
    "version": 3
   },
   "file_extension": ".py",
   "mimetype": "text/x-python",
   "name": "python",
   "nbconvert_exporter": "python",
   "pygments_lexer": "ipython3",
   "version": "3.8.2-final"
  },
  "orig_nbformat": 2,
  "kernelspec": {
   "name": "python3",
   "display_name": "Python 3",
   "metadata": {
    "interpreter": {
     "hash": "4cb5b39bc0b8b9dfc3eded68cab2d0376641f2d120fa994149be13b5d2b4a7f0"
    }
   }
  }
 },
 "nbformat": 4,
 "nbformat_minor": 2,
 "cells": [
  {
   "source": [
    "# Example of running a notebook as docs\n",
    "\n",
    "Look at the top right of this section, there should be a download button to grab the notebook from the rendered markdown doc for this file.\n",
    "\n"
   ],
   "cell_type": "markdown",
   "metadata": {}
  },
  {
   "cell_type": "code",
   "execution_count": 9,
   "metadata": {
    "tags": []
   },
   "outputs": [
    {
     "output_type": "stream",
     "name": "stdout",
     "text": "Usage: chaos [OPTIONS] COMMAND [ARGS]...\n\nOptions:\n  --version                   Show the version and exit.\n  --verbose                   Display debug level traces.\n  --no-version-check          Do not search for an updated version of the\n                              chaostoolkit.\n\n  --change-dir TEXT           Change directory before running experiment.\n  --no-log-file               Disable logging to file entirely.\n  --log-file TEXT             File path where to write the command's log.\n                              [default: chaostoolkit.log]\n\n  --log-format [string|json]  Console logging format: string, json.\n  --settings TEXT             Path to the settings file.  [default:\n                              /home/sylvain/.chaostoolkit/settings.yaml]\n\n  --help                      Show this message and exit.\n\nCommands:\n  disable   Disable a ChaosIQ feature\n  discover  Discover capabilities and experiments.\n  enable    Enable a ChaosIQ feature\n  info      Display information about the Chaos Toolkit environment.\n  init      Initialize a new experiment from discovered capabilities.\n  org       Set ChaosIQ organisation\n  publish   Publish your experiment's journal to ChaosIQ\n  run       Run the experiment loaded from SOURCE, either a local file or a...\n  settings  Read, write or remove from your settings file.\n  signin    Sign-in with your ChaosIQ credentials\n  team      Set ChaosIQ team\n  validate  Validate the experiment at SOURCE.\n  verify    Run the verification loaded from SOURCE, either a local file or...\n"
    }
   ],
   "source": [
    "!chaos --help\n"
   ]
  },
  {
   "cell_type": "code",
   "execution_count": null,
   "metadata": {},
   "outputs": [],
   "source": []
  }
 ]
}